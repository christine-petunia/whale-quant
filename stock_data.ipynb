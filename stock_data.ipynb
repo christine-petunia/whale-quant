{
 "cells": [
  {
   "cell_type": "markdown",
   "metadata": {},
   "source": [
    "# 股票数据获取"
   ]
  },
  {
   "cell_type": "code",
   "execution_count": null,
   "metadata": {},
   "outputs": [],
   "source": [
    "import baostock as bs\n",
    "import pandas as pd\n",
    "from IPython.display import display"
   ]
  },
  {
   "cell_type": "markdown",
   "metadata": {},
   "source": [
    "## 日线使用示例"
   ]
  },
  {
   "cell_type": "code",
   "execution_count": null,
   "metadata": {},
   "outputs": [],
   "source": [
    "#### 登陆系统 ####\n",
    "lg = bs.login()\n",
    "# 显示登陆返回信息\n",
    "print('login respond error_code:'+lg.error_code)\n",
    "print('login respond  error_msg:'+lg.error_msg)\n",
    "\n",
    "#### 获取沪深A股历史K线数据 ####\n",
    "# 详细指标参数，参见“历史行情指标参数”章节；“分钟线”参数与“日线”参数不同。“分钟线”不包含指数。\n",
    "# 分钟线指标：date,time,code,open,high,low,close,volume,amount,adjustflag\n",
    "# 周月线指标：date,code,open,high,low,close,volume,amount,adjustflag,turn,pctChg\n",
    "rs = bs.query_history_k_data_plus(\"sh.600000\",\n",
    "    \"date,code,open,high,low,close,preclose,volume,amount,adjustflag,turn,tradestatus,pctChg,isST\",\n",
    "    start_date='2022-07-01', end_date='2022-12-31',\n",
    "    frequency=\"d\", adjustflag=\"3\")\n",
    "print('query_history_k_data_plus respond error_code:'+rs.error_code)\n",
    "print('query_history_k_data_plus respond  error_msg:'+rs.error_msg)\n",
    "\n",
    "#### 打印结果集 ####\n",
    "data_list = []\n",
    "while (rs.error_code == '0') & rs.next():\n",
    "    # 获取一条记录，将记录合并在一起\n",
    "    data_list.append(rs.get_row_data())\n",
    "result = pd.DataFrame(data_list, columns=rs.fields)\n",
    "\n",
    "#### 结果集输出到csv文件 ####   \n",
    "result.to_csv(\"./history_A_stock_k_data.csv\", index=False)\n",
    "display(result)\n",
    "\n",
    "#### 登出系统 ####\n",
    "bs.logout()"
   ]
  },
  {
   "cell_type": "markdown",
   "metadata": {},
   "source": [
    "## 分钟线使用示例"
   ]
  },
  {
   "cell_type": "code",
   "execution_count": null,
   "metadata": {},
   "outputs": [],
   "source": [
    "import baostock as bs\n",
    "import pandas as pd\n",
    "from IPython.display import display\n",
    "\n",
    "#### 登陆系统 ####\n",
    "lg = bs.login()\n",
    "# 显示登陆返回信息\n",
    "print('login respond error_code:'+lg.error_code)\n",
    "print('login respond  error_msg:'+lg.error_msg)\n",
    "\n",
    "#### 获取沪深A股历史K线数据 ####\n",
    "# 详细指标参数，参见“历史行情指标参数”章节；“分钟线”参数与“日线”参数不同。“分钟线”不包含指数。\n",
    "# 分钟线指标：date,time,code,open,high,low,close,volume,amount,adjustflag\n",
    "# 周月线指标：date,code,open,high,low,close,volume,amount,adjustflag,turn,pctChg\n",
    "rs = bs.query_history_k_data_plus(\"sh.600000\",\n",
    "    \"date,time,code,open,high,low,close,volume,amount,adjustflag\",\n",
    "    start_date='2022-07-01', end_date='2022-07-31',\n",
    "    frequency=\"5\", adjustflag=\"3\")\n",
    "print('query_history_k_data_plus respond error_code:'+rs.error_code)\n",
    "print('query_history_k_data_plus respond  error_msg:'+rs.error_msg)\n",
    "\n",
    "#### 打印结果集 ####\n",
    "data_list = []\n",
    "while (rs.error_code == '0') & rs.next():\n",
    "    # 获取一条记录，将记录合并在一起\n",
    "    data_list.append(rs.get_row_data())\n",
    "result = pd.DataFrame(data_list, columns=rs.fields)\n",
    "\n",
    "#### 结果集输出到csv文件 ####   \n",
    "result.to_csv(\"./history_A_stock_k_data.csv\", index=False)\n",
    "display(result)\n",
    "\n",
    "#### 登出系统 ####\n",
    "bs.logout()"
   ]
  },
  {
   "cell_type": "markdown",
   "metadata": {},
   "source": [
    "## 沪深指数K线数据"
   ]
  },
  {
   "cell_type": "code",
   "execution_count": null,
   "metadata": {},
   "outputs": [],
   "source": [
    "# 登陆系统\n",
    "lg = bs.login()\n",
    "# 显示登陆返回信息\n",
    "print('login respond error_code:'+lg.error_code)\n",
    "print('login respond  error_msg:'+lg.error_msg)\n",
    "\n",
    "# 获取指数(综合指数、规模指数、一级行业指数、二级行业指数、策略指数、成长指数、价值指数、主题指数)K线数据\n",
    "# 综合指数，例如：sh.000001 上证指数，sz.399106 深证综指 等；\n",
    "# 规模指数，例如：sh.000016 上证50，sh.000300 沪深300，sh.000905 中证500，sz.399001 深证成指等；\n",
    "# 一级行业指数，例如：sh.000037 上证医药，sz.399433 国证交运 等；\n",
    "# 二级行业指数，例如：sh.000952 300地产，sz.399951 300银行 等；\n",
    "# 策略指数，例如：sh.000050 50等权，sh.000982 500等权 等；\n",
    "# 成长指数，例如：sz.399376 小盘成长 等；\n",
    "# 价值指数，例如：sh.000029 180价值 等；\n",
    "# 主题指数，例如：sh.000015 红利指数，sh.000063 上证周期 等；\n",
    "\n",
    "# 详细指标参数，参见“历史行情指标参数”章节；“周月线”参数与“日线”参数不同。\n",
    "# 周月线指标：date,code,open,high,low,close,volume,amount,adjustflag,turn,pctChg\n",
    "rs = bs.query_history_k_data_plus(\"sh.000001\",\n",
    "    \"date,code,open,high,low,close,preclose,volume,amount,pctChg\",\n",
    "    start_date='2022-01-01', end_date='2022-06-30', frequency=\"d\")\n",
    "print('query_history_k_data_plus respond error_code:'+rs.error_code)\n",
    "print('query_history_k_data_plus respond  error_msg:'+rs.error_msg)\n",
    "\n",
    "# 打印结果集\n",
    "data_list = []\n",
    "while (rs.error_code == '0') & rs.next():\n",
    "    # 获取一条记录，将记录合并在一起\n",
    "    data_list.append(rs.get_row_data())\n",
    "result = pd.DataFrame(data_list, columns=rs.fields)\n",
    "# 结果集输出到csv文件\n",
    "result.to_csv(\"./history_Index_k_data.csv\", index=False)\n",
    "display(result)\n",
    "\n",
    "# 登出系统\n",
    "bs.logout()"
   ]
  },
  {
   "cell_type": "markdown",
   "metadata": {},
   "source": [
    "## 上证50成分股"
   ]
  },
  {
   "cell_type": "code",
   "execution_count": null,
   "metadata": {},
   "outputs": [],
   "source": [
    "# 登陆系统\n",
    "lg = bs.login()  # 调用 login 方法进行登陆\n",
    "# 显示登陆返回信息\n",
    "print('login respond error_code:'+lg.error_code) # 打印登陆返回错误码\n",
    "print('login respond  error_msg:'+lg.error_msg)  # 打印登陆返回错误信息\n",
    "\n",
    "# 获取上证50成分股\n",
    "rs = bs.query_sz50_stocks()  # 调用 query_sz50_stocks 方法获取上证50成分股信息\n",
    "print('query_sz50 error_code:'+rs.error_code)  # 打印方法返回错误码\n",
    "print('query_sz50  error_msg:'+rs.error_msg)   # 打印方法返回错误信息\n",
    "\n",
    "# 打印结果集\n",
    "sz50_stocks = []   # 创建一个空列表，用于存储查询结果\n",
    "while (rs.error_code == '0') & rs.next():\n",
    "    # 如果查询没有出错且还有数据\n",
    "    sz50_stocks.append(rs.get_row_data())   # 将获取到的数据添加到列表中\n",
    "result = pd.DataFrame(sz50_stocks, columns=rs.fields)  # 使用 pandas 将数据转换为 DataFrame 格式\n",
    "# 结果集输出到csv文件\n",
    "result.to_csv(\"./sz50_stocks.csv\", encoding=\"gbk\", index=False)  # 将结果保存为 csv 文件\n",
    "display(result)   # 打印结果\n",
    "\n",
    "# 登出系统\n",
    "bs.logout()  # 调用 logout 方法进行登出"
   ]
  },
  {
   "cell_type": "markdown",
   "metadata": {},
   "source": [
    "## 基本面数据获取\n",
    "\n",
    "### 盈利"
   ]
  },
  {
   "cell_type": "code",
   "execution_count": null,
   "metadata": {},
   "outputs": [],
   "source": [
    "# 登录 BaoStock 系统\n",
    "lg = bs.login()\n",
    "\n",
    "# 显示登陆返回信息\n",
    "print('login respond error_code:'+lg.error_code)\n",
    "print('login respond  error_msg:'+lg.error_msg)\n",
    "\n",
    "# 获取600036招商银行季频盈利能力数据\n",
    "profit_list = []\n",
    "rs_profit = bs.query_profit_data(code=\"sh.600036\", year=2022, quarter=4)\n",
    "while (rs_profit.error_code == '0') & rs_profit.next():\n",
    "    profit_list.append(rs_profit.get_row_data())\n",
    "\n",
    "# 转换为DataFrame格式\n",
    "df_profit = pd.DataFrame(profit_list, columns=rs_profit.fields)\n",
    "\n",
    "# 打印结果\n",
    "display(df_profit)\n",
    "\n",
    "# 将结果集输出到csv文件\n",
    "df_profit.to_csv(\"./profit_data.csv\", encoding=\"gbk\", index=False)\n",
    "\n",
    "# 退出 BaoStock 系统\n",
    "bs.logout()"
   ]
  },
  {
   "cell_type": "markdown",
   "metadata": {},
   "source": [
    "### 运营"
   ]
  },
  {
   "cell_type": "code",
   "execution_count": null,
   "metadata": {},
   "outputs": [],
   "source": [
    "lg = bs.login()\n",
    "print('login respond error_code:'+lg.error_code)\n",
    "print('login respond  error_msg:'+lg.error_msg)\n",
    "\n",
    "# 获取600036招商银行季频营运能力数据\n",
    "operation_list = []\n",
    "rs_operation = bs.query_operation_data(code=\"sh.600036\", year=2022, quarter=4)\n",
    "while (rs_operation.error_code == '0') & rs_operation.next():\n",
    "    operation_list.append(rs_operation.get_row_data())\n",
    "\n",
    "df_operation = pd.DataFrame(operation_list, columns=rs_operation.fields)\n",
    "display(df_operation)\n",
    "df_operation.to_csv(\"./operation_data.csv\", encoding=\"gbk\", index=False)\n",
    "bs.logout()"
   ]
  },
  {
   "cell_type": "markdown",
   "metadata": {},
   "source": [
    "### 季频成长能力"
   ]
  },
  {
   "cell_type": "code",
   "execution_count": null,
   "metadata": {},
   "outputs": [],
   "source": [
    "lg = bs.login()\n",
    "print('login respond error_code:'+lg.error_code)\n",
    "print('login respond  error_msg:'+lg.error_msg)\n",
    "\n",
    "# 获取600036招商银行季频成长能力数据\n",
    "growth_list = []\n",
    "rs_growth = bs.query_growth_data(code=\"sh.600036\", year=2022, quarter=4)\n",
    "while (rs_growth.error_code == '0') & rs_growth.next():\n",
    "    growth_list.append(rs_growth.get_row_data())\n",
    "\n",
    "df_growth = pd.DataFrame(growth_list, columns=rs_growth.fields)\n",
    "display(df_growth)\n",
    "df_growth.to_csv(\"./growth_data.csv\", encoding=\"gbk\", index=False)\n",
    "bs.logout()"
   ]
  },
  {
   "cell_type": "markdown",
   "metadata": {},
   "source": [
    "### 季频偿债能力"
   ]
  },
  {
   "cell_type": "code",
   "execution_count": null,
   "metadata": {},
   "outputs": [],
   "source": [
    "lg = bs.login()\n",
    "print('login respond error_code:'+lg.error_code)\n",
    "print('login respond  error_msg:'+lg.error_msg)\n",
    "\n",
    "# 获取600036招商银行季频偿债能力数据\n",
    "balance_list = []\n",
    "rs_balance = bs.query_balance_data(code=\"sh.600036\", year=2022, quarter=4)\n",
    "while (rs_balance.error_code == '0') & rs_balance.next():\n",
    "    balance_list.append(rs_balance.get_row_data())\n",
    "\n",
    "df_balance = pd.DataFrame(balance_list, columns=rs_balance.fields)\n",
    "display(df_balance)\n",
    "df_balance.to_csv(\"./balance_data.csv\", encoding=\"gbk\", index=False)\n",
    "bs.logout()"
   ]
  },
  {
   "cell_type": "markdown",
   "metadata": {},
   "source": [
    "## Pandas数据清洗\n",
    "\n",
    "- 切片\n",
    "    - 首先，使用 Pandas Series 对象的索引标签进行切片操作比使用列表和日期索引进行切片操作更简洁。例如，ser['2020-01-06':'2020-01-10'] 相对于 prices[dates.index('2020-01-06'):dates.index('2020-01 -10')+1] 更加简洁。\n",
    "    - 其次，Series 切片操作包含端点，而 List 切片操作不包含端点。因此，对于 Series 切片，我们只需要指定开始和结束的索引标签，不需要在最后一个观察值后添加 1 作为结束索引。而对于列表切片，我们需要记住不包含端点的规则，并将一个添加到我们的结束索引。\n",
    "    - 第三，尽管这并不明显，但是 Series 对象的内部操作使得它们在处理大量数据时更加高效。\n",
    "-  索引\n",
    "    - .loc：仅通过标签进行索引（基于标签的索引）\n",
    "    - .iloc：仅通过整数位置进行索引（位置索引）\n",
    "    - [ ]：结合了基于标签和位置的索引。"
   ]
  },
  {
   "cell_type": "code",
   "execution_count": null,
   "metadata": {},
   "outputs": [],
   "source": [
    "# DataFrame.loc：使用多个标签进行选择\n",
    "# x = df.loc[['2020-01-02', '2020-01-03'], 'Close']\n",
    "# DataFrame.loc：使用切片进行选择\n",
    "# x = df.loc['2020-01-01':'2020-01-10', :]"
   ]
  },
  {
   "cell_type": "markdown",
   "metadata": {},
   "source": [
    "Selection\tResult\tNotes\n",
    "\n",
    "Series[label]\tscalar value\tLabel必须存在，否则KeyError\n",
    "\n",
    "Series[list of labels]\tSeries\t所有Label必须存在，否则KeyError\n",
    "\n",
    "Series[start_label:end_label]\tSeries\t结果会有所不同\n",
    "\n",
    "Series[pos]\tscalar\t类似于列表\n",
    "\n",
    "Series[list of pos]\tSeries\t类似于列表\n",
    "\n",
    "Series[start_pos:end_pos]\tSeries\t不包括端点"
   ]
  },
  {
   "cell_type": "markdown",
   "metadata": {},
   "source": [
    "### 日期\n",
    "\n",
    "- 日期时间\n",
    "    - 格式化日期时间对象 strftime\n",
    "- timedelta"
   ]
  },
  {
   "cell_type": "code",
   "execution_count": null,
   "metadata": {},
   "outputs": [],
   "source": [
    "import os\n",
    "import datetime as dt\n",
    "import pandas as pd\n",
    "# import toolkit_config as cfg"
   ]
  },
  {
   "cell_type": "code",
   "execution_count": null,
   "metadata": {},
   "outputs": [],
   "source": [
    "# Create a datatime object\n",
    "date = dt.datetime(year=2020, month=12, day=31, hour=0)\n",
    "\n",
    "# Create a string with the representation we want:\n",
    "s = date.strftime('%Y-%m-%d')\n",
    "print(s)\n",
    "\n",
    "# Output: \n",
    "#  '2020-12-31' "
   ]
  },
  {
   "cell_type": "code",
   "execution_count": null,
   "metadata": {},
   "outputs": [],
   "source": [
    "# Lets create two other datetime instances\n",
    "dt0 = dt.datetime(year=2019, month=12, day=31) \n",
    "dt1 = dt.datetime(year=2020, month=1, day=1) \n",
    "\n",
    "# Operations between datetime objects will return timedelta objects\n",
    "delta = dt1 - dt0\n",
    "\n",
    "print(delta)\n",
    "print(repr(delta))"
   ]
  },
  {
   "cell_type": "code",
   "execution_count": null,
   "metadata": {},
   "outputs": [],
   "source": [
    "# 由于 timedelta 对象表示持续时间，我们可以使用它们来移动 datetime 实例中表示的日期：\n",
    "start = dt.datetime(year=2020, month=12, day=31, hour=0)\n",
    "delta = dt.timedelta(hours=12) \n",
    "\n",
    "# This is the new date\n",
    "end = start + delta \n",
    "\n",
    "print(start) \n",
    "print(end) "
   ]
  },
  {
   "cell_type": "markdown",
   "metadata": {},
   "source": [
    "- 将字符串转换为日期时间"
   ]
  },
  {
   "cell_type": "code",
   "execution_count": null,
   "metadata": {},
   "outputs": [],
   "source": [
    "# prc['Date'] is a series\n",
    "dser = pd.to_datetime(prc['Date'], format='%Y-%m-%d')\n",
    "print(dser)\n",
    "\n",
    "# Output:\n",
    "# 0      2010-06-29\n",
    "# 1      2010-06-30\n",
    "# 2      2010-07-01\n",
    "# 3      2010-07-02\n",
    "# 4      2010-07-06\n",
    "#           ...    \n",
    "# 2640   2020-12-22\n",
    "# 2641   2020-12-23\n",
    "# 2642   2020-12-24\n",
    "# 2643   2020-12-28\n",
    "# 2644   2020-12-29\n",
    "# Name: Date, Length: 2645, dtype: datetime64[ns]\n",
    "\n",
    "\n",
    "# prc['Date'].array is a pandas array\n",
    "didx = pd.to_datetime(prc['Date'].array, format='%Y-%m-%d')\n",
    "print(didx)\n",
    "\n",
    "# Output:\n",
    "# DatetimeIndex(['2010-06-29', '2010-06-30', '2010-07-01', '2010-07-02',\n",
    "#                '2010-07-06', '2010-07-07', '2010-07-08', '2010-07-09',\n",
    "#                '2010-07-12', '2010-07-13',\n",
    "#                ...\n",
    "#                '2020-12-15', '2020-12-16', '2020-12-17', '2020-12-18',\n",
    "#                '2020-12-21', '2020-12-22', '2020-12-23', '2020-12-24',\n",
    "#                '2020-12-28', '2020-12-29'],\n",
    "#               dtype='datetime64[ns]', length=2645, freq=None)"
   ]
  },
  {
   "cell_type": "markdown",
   "metadata": {},
   "source": [
    "- 使用 DatetimeIndex 有很多优点，包括：\n",
    "    - 选择日期范围的便捷方式\n",
    "    - 重采样、变频\n",
    "    - 缺少观测值的“完成”时间序列\n",
    "    - 选择超前、滞后的简单方法（例如计算回报时）\n",
    "    - 计算“滚动”统计数据\n",
    "    - 使用自定义日历、假期\n",
    "    - 轻松转换为期间指数（使用 PeriodIndex）\n",
    "    - 时区之间的转换\n",
    "    - 及时向后或向前移动数据（使用 .shift 方法）\n",
    "    - 处理重复项"
   ]
  },
  {
   "cell_type": "markdown",
   "metadata": {},
   "source": [
    "### 使用布尔值选择观察值"
   ]
  },
  {
   "cell_type": "code",
   "execution_count": null,
   "metadata": {},
   "outputs": [],
   "source": [
    "# will be a series with boolean values \n",
    "cond = df.loc[:, 'action'] == 'up'\n",
    "print(cond) \n",
    "\n",
    "# Output:\n",
    "#\n",
    "# 2012-02-16 07:42:00    False\n",
    "# 2020-09-23 08:58:55    False\n",
    "# 2020-09-23 09:01:26    False\n",
    "# 2020-09-23 09:11:01    False\n",
    "# 2020-09-23 11:15:12     True\n",
    "# 2020-11-18 11:07:44     True\n",
    "# 2020-12-09 15:34:34    False\n",
    "# Name: action, dtype: bool"
   ]
  },
  {
   "cell_type": "markdown",
   "metadata": {},
   "source": [
    "我们可以在 .loc 方法中使用这个系列作为行索引器："
   ]
  },
  {
   "cell_type": "code",
   "execution_count": null,
   "metadata": {},
   "outputs": [],
   "source": [
    "# We can use this series as an indexer:\n",
    "#   A series of booleans can be used to select rows that meet the criteria\n",
    "res = df.loc[cond]\n",
    "print(res)\n",
    "\n",
    "# Output\n",
    "#                               firm  action\n",
    "# date                                      \n",
    "# 2020-09-23 11:15:12   Deutsche Bank     up\n",
    "# 2020-11-18 11:07:44  Morgan Stanley     up"
   ]
  },
  {
   "cell_type": "markdown",
   "metadata": {},
   "source": [
    "我们将使用 [] 将action列中的“up”的所有实例替换为“UP”（大写）："
   ]
  },
  {
   "cell_type": "code",
   "execution_count": null,
   "metadata": {},
   "outputs": [],
   "source": [
    "cond = df.loc[:, 'action'] == 'up'\n",
    "df['action'][cond] = \"UP\"\n",
    "print(df)\n",
    " \n",
    "# Output:\n",
    "#                                firm action\n",
    "# date                                      \n",
    "# 2012-02-16 07:42:00       JP Morgan   main\n",
    "# 2020-09-23 08:58:55   Deutsche Bank   main\n",
    "# 2020-09-23 09:01:26   Deutsche Bank   main\n",
    "# 2020-09-23 09:11:01      Wunderlich   down\n",
    "# 2020-09-23 11:15:12   Deutsche Bank     UP\n",
    "# 2020-11-18 11:07:44  Morgan Stanley     UP\n",
    "# 2020-12-09 15:34:34       JP Morgan   main"
   ]
  }
 ],
 "metadata": {
  "kernelspec": {
   "display_name": "ml",
   "language": "python",
   "name": "python3"
  },
  "language_info": {
   "codemirror_mode": {
    "name": "ipython",
    "version": 3
   },
   "file_extension": ".py",
   "mimetype": "text/x-python",
   "name": "python",
   "nbconvert_exporter": "python",
   "pygments_lexer": "ipython3",
   "version": "3.11.4"
  }
 },
 "nbformat": 4,
 "nbformat_minor": 2
}
